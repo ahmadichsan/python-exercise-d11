{
 "cells": [
  {
   "cell_type": "markdown",
   "id": "315fb1ca",
   "metadata": {},
   "source": [
    "**Exercise Week 5**\n",
    "\n",
    "**Author: Ahmad Ichsan Baihaqi**\n",
    "\n",
    "**Email: ahmadichsanbaihaqi@gmail.com**"
   ]
  },
  {
   "cell_type": "code",
   "execution_count": 13,
   "id": "00c28d82",
   "metadata": {},
   "outputs": [],
   "source": [
    "from itertools import product"
   ]
  },
  {
   "cell_type": "code",
   "execution_count": 24,
   "id": "4544535b",
   "metadata": {},
   "outputs": [
    {
     "data": {
      "text/plain": [
       "19"
      ]
     },
     "execution_count": 24,
     "metadata": {},
     "output_type": "execute_result"
    }
   ],
   "source": [
    "def questionOne():\n",
    "    def maximum(x1, x2, x3):\n",
    "        result = (x1 ** 2 + (x2 * x3)) % 20\n",
    "        return result\n",
    "    \n",
    "    def find_max(ar1, ar2, ar3):\n",
    "        permutation = list(product(ar1, ar2, ar3))\n",
    "        \n",
    "        max_result = []\n",
    "        \n",
    "        for item in permutation:\n",
    "            max_result.append(maximum(item[0], item[1], item[2]))\n",
    "\n",
    "        return max(max_result)\n",
    "    \n",
    "    result = find_max(\n",
    "        [2, 4],\n",
    "        [1, 2, 3],\n",
    "        [5, 6]\n",
    "    )\n",
    "\n",
    "    return result\n",
    "\n",
    "questionOne()"
   ]
  },
  {
   "cell_type": "code",
   "execution_count": 50,
   "id": "31cd9108",
   "metadata": {},
   "outputs": [
    {
     "name": "stdout",
     "output_type": "stream",
     "text": [
      "2\n",
      "3\n",
      "1\n",
      "1\n"
     ]
    }
   ],
   "source": [
    "def questionTwo():\n",
    "    def position(n, r, p):\n",
    "        my_list = []\n",
    "\n",
    "        for i in range(r):\n",
    "            outer_item = []\n",
    "            reverse_item = []\n",
    "            \n",
    "            for j in range(n):\n",
    "                item = j + 1\n",
    "                \n",
    "                outer_item.append(item)\n",
    "            \n",
    "            reverse_item = sorted(outer_item, reverse=True)\n",
    "            \n",
    "            if (len(my_list) > 0):\n",
    "                tail = my_list[-1]\n",
    "                outer_head = outer_item[0]\n",
    "                \n",
    "                if (tail == outer_head):\n",
    "                    outer_item.pop(0)\n",
    "\n",
    "            my_list.extend(outer_item)\n",
    "            \n",
    "            tail = my_list[-1]\n",
    "            reverse_head = reverse_item[0]\n",
    "            \n",
    "            if (tail == reverse_head):\n",
    "                reverse_item.pop(0)\n",
    "            \n",
    "            my_list.extend(reverse_item)\n",
    "\n",
    "        return my_list[p - 1]\n",
    "    \n",
    "    print(position(3, 1, 4))\n",
    "    \n",
    "    print(position(3, 2, 7))\n",
    "    \n",
    "    print(position(4, 2, 7))\n",
    "    \n",
    "    print(position(5, 3, 9))\n",
    "\n",
    "questionTwo()"
   ]
  }
 ],
 "metadata": {
  "kernelspec": {
   "display_name": "Python 3",
   "language": "python",
   "name": "python3"
  },
  "language_info": {
   "codemirror_mode": {
    "name": "ipython",
    "version": 3
   },
   "file_extension": ".py",
   "mimetype": "text/x-python",
   "name": "python",
   "nbconvert_exporter": "python",
   "pygments_lexer": "ipython3",
   "version": "3.8.8"
  }
 },
 "nbformat": 4,
 "nbformat_minor": 5
}
